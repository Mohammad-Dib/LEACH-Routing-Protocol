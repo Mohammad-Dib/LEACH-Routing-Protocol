{
 "cells": [
  {
   "cell_type": "markdown",
   "metadata": {},
   "source": [
    "# Hierarchal routnig protocol:"
   ]
  },
  {
   "cell_type": "code",
   "execution_count": 1,
   "metadata": {},
   "outputs": [],
   "source": [
    "import networkx as nx\n",
    "import numpy as np\n",
    "import matplotlib.pyplot as plt\n",
    "%matplotlib inline\n",
    "import itertools\n",
    "import random\n",
    "\n",
    "from sklearn.cluster import KMeans\n"
   ]
  },
  {
   "cell_type": "markdown",
   "metadata": {},
   "source": [
    "## Building the network and applying K-means clustering"
   ]
  },
  {
   "cell_type": "code",
   "execution_count": 2,
   "metadata": {},
   "outputs": [],
   "source": [
    "# Final draft\n",
    "np.random.seed(0)\n",
    "G = nx.Graph()\n",
    "\n",
    "##### Defining some network parameters #####\n",
    "# The dimentions of the area to be monitored\n",
    "w = 30\n",
    "h = 30\n",
    "\n",
    "# The number of nodes\n",
    "n = 30\n",
    "\n",
    "##### Creating and placing the nodes #####\n",
    "# Defining a dict that have the nodes and their position\n",
    "nodes = {}\n",
    "\n",
    "# A dict that will have each node and its energy\n",
    "# nodes_energy = {}\n",
    "\n",
    "for i in range(n):\n",
    "    x = np.random.randint(0,w)\n",
    "    y = np.random.randint(0,h)\n",
    "    \n",
    "#     nodes_energy.update({i: 60})\n",
    "    nodes.update({i: (x,y)})\n",
    "\n",
    "G.add_nodes_from(nodes.keys())\n",
    "\n",
    "for node, p in nodes.items():\n",
    "    G.nodes[node]['pos'] = p\n",
    "    \n",
    "\n",
    "##### Finding the clusters using kmean #####\n",
    "## Defining a list that contains the coordiantes of the different nodes\n",
    "\n",
    "nodes_coordinates = []\n",
    "for i in nodes.keys():\n",
    "    nodes_coordinates.append(nodes[i])\n",
    "\n",
    "## Applying the kmean algorithm on the nodes\n",
    "num_of_clusters = 3\n",
    "kmeans = KMeans(n_clusters=num_of_clusters, random_state=42).fit(nodes_coordinates)\n",
    "   \n",
    "## Defining a list that contains the coordiante of each node and its coresponding cluster \n",
    "cluster_list = []\n",
    "for i in range(len(nodes_coordinates)):\n",
    "    temp = (kmeans.labels_[i], nodes_coordinates[i])\n",
    "    cluster_list.append(temp)\n",
    "    \n",
    "## Defining a list that contain the list of coordinates of each cluster\n",
    "cluster_list.sort()\n",
    "clusters = []\n",
    "\n",
    "for k, g in itertools.groupby(cluster_list, lambda x:x[0]):\n",
    "    clusters.append([x[1] for x in g])\n",
    "\n",
    "# Having the node of each cluster in a list\n",
    "# This list will contain a list of lists, where each list contains a certain cluster\n",
    "cluster_nodes = []\n",
    "# This loop will go through each cluster to fill the loop above\n",
    "for cl in clusters:\n",
    "    # This list will contain the nodes of a certain cluster\n",
    "    nodes_same_cluster = []\n",
    "    # This loop will fill the list above by matching the coordinates of each node with the coordiantes in the cluster\n",
    "    for coord in cl:\n",
    "        for node, coordinate in nodes.items():\n",
    "            if coordinate == coord and node not in nodes_same_cluster:\n",
    "                nodes_same_cluster.append(node)\n",
    "    cluster_nodes.append(nodes_same_cluster)\n",
    "    \n",
    "    \n"
   ]
  },
  {
   "cell_type": "markdown",
   "metadata": {},
   "source": [
    "## Applying the hierarchical routing protocol"
   ]
  },
  {
   "cell_type": "code",
   "execution_count": 54,
   "metadata": {
    "scrolled": false
   },
   "outputs": [],
   "source": [
    "# A dict that will have each node and its energy\n",
    "nodes_energy = {}\n",
    "\n",
    "for i in range(n):\n",
    "    nodes_energy.update({i: 50})\n",
    "\n",
    "# Defining the energy cost of the different transmissions\n",
    "energy_cost_source = 1\n",
    "energy_cost_ch = 1.5\n",
    "\n",
    "# Choose the method by which you want to choose the ch (1 --> based on energy) and (else --> randomly)\n",
    "ch_method = 1\n",
    "\n",
    "# Keeping track of some network variables\n",
    "dead_nodes = []\n",
    "num_dead_nodes_per_run = []\n",
    "num_of_rec_msg = []\n",
    "num_of_sent_msg = []\n",
    "ntwrk_tot_energy = []\n",
    "sent_msg_by_src = 0\n",
    "rec_msg_by_bs = 0\n",
    "\n",
    "# Appending the initial energy of the network\n",
    "ntwrk_tot_energy.append(sum(nodes_energy.values()))\n",
    "\n",
    "# This list will contain the clusters, and it will be modified in the loop\n",
    "# It was created to avoid changing the original cluster list\n",
    "cluster_nodes_modifiable = cluster_nodes.copy()\n",
    "\n",
    "# How many cluster rotations to do\n",
    "for i in range(10):\n",
    "    \n",
    "    # Choosing the cluster heads and adding the edges\n",
    "    ch_list = []\n",
    "    for cl in cluster_nodes_modifiable:\n",
    "        \n",
    "        # If the ch_method is 1, then the cluster head will be chosen based on energy\n",
    "        if ch_method == 1:\n",
    "            \n",
    "            # Getting the energy of the nodes on the current cluster\n",
    "            cluster = cl\n",
    "            cluster_energy = {node:nodes_energy[node] for node in cluster}\n",
    "            \n",
    "            # The node with the highest energy will be the cluster head\n",
    "            ch = max(cluster_energy, key=cluster_energy.get)\n",
    "        else:\n",
    "            ch = random.choice(cl)\n",
    "\n",
    "        # Creating the paths\n",
    "        for c in cl:\n",
    "            G.add_edge(c, ch)\n",
    "\n",
    "        ch_list.append(ch)\n",
    "        \n",
    "#     print(ch_list)\n",
    "#     print(cluster_nodes_modifiable)\n",
    "#     print(nodes_energy)\n",
    "#     print(30*'*')\n",
    "    ##############################################################################\n",
    "        \n",
    "    # Adding the base station node\n",
    "\n",
    "    #bs_x = np.random.randint(0,w)\n",
    "    #bs_y = np.random.randint(0,h)\n",
    "    G.add_node('BS',pos=(w/2, h/2))\n",
    "    nodes.update({'BS': (w/2, h/2)})\n",
    "\n",
    "    # Connecting the cluster heads to the base station\n",
    "    for c in ch_list:\n",
    "        G.add_edge(c, 'BS')\n",
    "\n",
    "    ##############################################################################\n",
    "    \n",
    "    # killing one node\n",
    "#     nodes_energy[random.choice(ch_list)] = 0\n",
    "    \n",
    "    \n",
    "    ##### Plotting #####\n",
    "    # Defining the nodes colors\n",
    "    nodes_color = []\n",
    "    for node in G:\n",
    "        if node == 'BS':\n",
    "            nodes_color.append('green')\n",
    "        elif node in ch_list:\n",
    "            nodes_color.append('red')\n",
    "        else:\n",
    "            nodes_color.append('blue')\n",
    "\n",
    "    # Drawing the graph\n",
    "    # nx.draw(G, pos = nodes, node_color=nodes_color, with_labels=True)\n",
    "    # plt.draw()\n",
    "    \n",
    "#     nx.draw_networkx(G, node_color=nodes_color)\n",
    "#     plt.title('Network Topology for Round ' + str(1+i))\n",
    "#     plt.savefig('Network_' + str(1+i) + '.png', bbox_inches='tight')\n",
    "#     plt.show()\n",
    "\n",
    "     ##############################################################################\n",
    "               \n",
    "    # This list will contain the source nodes\n",
    "    source_nodes = []\n",
    "    for i in cluster_nodes_modifiable:\n",
    "        for j in i:\n",
    "            if j not in ch_list:\n",
    "                source_nodes.append(j)\n",
    "    \n",
    "    ##############################################################################\n",
    "    \n",
    "#     sent_msg_by_src = 0\n",
    "#     rec_msg_by_bs = 0\n",
    "    # How many meassages to send per steady state\n",
    "    for j in range(50):\n",
    "        \n",
    "        # Picking a random node to send a message from\n",
    "        if len(source_nodes) != 0:\n",
    "            source = random.choice(source_nodes)\n",
    "\n",
    "        else:\n",
    "            \n",
    "            break\n",
    "        # Checking if this node has enough energy\n",
    "        if nodes_energy[source] >= energy_cost_source:\n",
    "            # Incrementing the number of sent messages by 1\n",
    "            sent_msg_by_src += 1\n",
    "            # The ch of the chosen node\n",
    "            source_ch = list(G.neighbors(source))[0]\n",
    "            # Check if the ch has enough energy\n",
    "            if nodes_energy[source_ch] >= energy_cost_ch:\n",
    "                # Sending a message from the source to the bs\n",
    "                path_to_bs = nx.shortest_path(G,source,'BS')\n",
    "                # Increment the number of received messages by the bs\n",
    "                rec_msg_by_bs += 1\n",
    "                # Decreasing the energy of both the source node and the ch\n",
    "                nodes_energy[source] = nodes_energy[source] - energy_cost_source\n",
    "                nodes_energy[source_ch] = nodes_energy[source_ch] - energy_cost_ch\n",
    "                \n",
    "                # Appending the current enery in the total energy list for future plotting\n",
    "                ntwrk_tot_energy.append(sum(nodes_energy.values()))\n",
    "###############################################\n",
    "            # Checking if the source node is still alive\n",
    "            if nodes_energy[source] < energy_cost_source:\n",
    "                source_nodes.remove(source)\n",
    "                dead_nodes.append(source)\n",
    "                # Removing the node from the whole network\n",
    "                cluster_nodes_modifiable = [[dead_node for dead_node in cluster if dead_node != source] for cluster in cluster_nodes_modifiable]\n",
    "\n",
    "                #G.remove_node(source)\n",
    "            # CHeck if the ch has enough energy to operate as a ch\n",
    "            if nodes_energy[source_ch] < energy_cost_ch:\n",
    "                # Remove its nodes from the source list\n",
    "                \n",
    "                #source_nodes = [alive_node for alive_node in source_nodes if alive_node not in list(G.neighbors(source_ch))]\n",
    "                \n",
    "                # Checking if the ch is not fully dead yet\n",
    "                if nodes_energy[source_ch] < energy_cost_source:\n",
    "                    dead_nodes.append(source_ch)\n",
    "                    # Removing the node from the whole network\n",
    "                    cluster_nodes_modifiable = [[dead_node for dead_node in cluster if dead_node != source_ch] for cluster in cluster_nodes_modifiable]\n",
    "\n",
    "                    #G.remove_node(source_ch)\n",
    "################################################                       \n",
    "    # Removing the edges\n",
    "    G = nx.create_empty_copy(G)\n",
    "    \n",
    "\n",
    "    # Counting the number of dead nodes by this round        \n",
    "    num_dead_nodes_per_run.append(len(dead_nodes))\n",
    "    num_of_rec_msg.append(rec_msg_by_bs)\n",
    "    num_of_sent_msg.append(sent_msg_by_src)"
   ]
  },
  {
   "cell_type": "code",
   "execution_count": 20,
   "metadata": {
    "scrolled": true
   },
   "outputs": [
    {
     "data": {
      "text/plain": [
       "[0, 0, 0, 0, 0, 0, 0, 2, 6, 9]"
      ]
     },
     "execution_count": 20,
     "metadata": {},
     "output_type": "execute_result"
    }
   ],
   "source": [
    "# The number of nodes that died for energy based election of the cluster head over rounds\n",
    "num_dead_nodes_per_run"
   ]
  },
  {
   "cell_type": "code",
   "execution_count": 7,
   "metadata": {},
   "outputs": [
    {
     "data": {
      "text/plain": [
       "[10, 19, 6, 27, 0, 16, 21, 14, 20]"
      ]
     },
     "execution_count": 7,
     "metadata": {},
     "output_type": "execute_result"
    }
   ],
   "source": [
    "# The nodes that died for energy based election\n",
    "dead_nodes"
   ]
  },
  {
   "cell_type": "code",
   "execution_count": 18,
   "metadata": {
    "scrolled": true
   },
   "outputs": [
    {
     "data": {
      "text/plain": [
       "[0, 0, 0, 2, 4, 6, 7, 9, 11, 16]"
      ]
     },
     "execution_count": 18,
     "metadata": {},
     "output_type": "execute_result"
    }
   ],
   "source": [
    "# The number of nodes that died for random election of the cluster head over rounds\n",
    "ch_random"
   ]
  },
  {
   "cell_type": "code",
   "execution_count": 13,
   "metadata": {},
   "outputs": [
    {
     "data": {
      "text/plain": [
       "[11, 27, 3, 1, 2, 25, 12, 22, 23, 26, 10, 7, 17, 20, 16]"
      ]
     },
     "execution_count": 13,
     "metadata": {},
     "output_type": "execute_result"
    }
   ],
   "source": [
    "# The nodes that died for random election\n",
    "dead_nodes"
   ]
  },
  {
   "cell_type": "code",
   "execution_count": 56,
   "metadata": {},
   "outputs": [
    {
     "data": {
      "image/png": "[encoded data removed]",
      "text/plain": [
       "<Figure size 432x288 with 1 Axes>"
      ]
     },
     "metadata": {
      "needs_background": "light"
     },
     "output_type": "display_data"
    }
   ],
   "source": [
    "plt.plot(ntwrk_tot_energy)\n",
    "plt.title('The Total Energy of the Network Over Transmissions')\n",
    "plt.xlabel('Transmissions')\n",
    "plt.ylabel('Total Energy')\n",
    "plt.grid()\n",
    "plt.savefig('Network energy.png', bbox_inches='tight')\n",
    "plt.show()"
   ]
  },
  {
   "cell_type": "code",
   "execution_count": 28,
   "metadata": {},
   "outputs": [
    {
     "data": {
      "image/png": "[encoded data removed]",
      "text/plain": [
       "<Figure size 432x288 with 1 Axes>"
      ]
     },
     "metadata": {
      "needs_background": "light"
     },
     "output_type": "display_data"
    }
   ],
   "source": [
    "plt.plot(range(1,11), ch_random, label ='CH assigned randomly')\n",
    "plt.plot(range(1,11),num_dead_nodes_per_run, label ='CH assigned based on energy')\n",
    "plt.title('The number of dead nodes per round')\n",
    "plt.xlabel('Rounds')\n",
    "plt.ylabel('Number of Dead Nodes')\n",
    "plt.xlim(1,10)\n",
    "plt.legend()\n",
    "plt.grid()\n",
    "plt.savefig('dead nodes per round.png', bbox_inches='tight')\n",
    "plt.show()"
   ]
  },
  {
   "cell_type": "code",
   "execution_count": 11,
   "metadata": {},
   "outputs": [
    {
     "data": {
      "image/png": "[encoded data removed]",
      "text/plain": [
       "<Figure size 432x288 with 1 Axes>"
      ]
     },
     "metadata": {
      "needs_background": "light"
     },
     "output_type": "display_data"
    }
   ],
   "source": [
    "plt.plot(num_of_rec_msg, label ='Received Messages')\n",
    "plt.plot(num_of_sent_msg, label = 'Sent Messages')\n",
    "plt.title('The number of received messages by the BS per round')\n",
    "plt.xlabel('Rounds')\n",
    "plt.ylabel('Number of received messages')\n",
    "plt.legend()\n",
    "plt.grid()\n",
    "plt.show()"
   ]
  },
  {
   "cell_type": "code",
   "execution_count": null,
   "metadata": {},
   "outputs": [],
   "source": []
  }
 ],
 "metadata": {
  "kernelspec": {
   "display_name": "Python 3",
   "language": "python",
   "name": "python3"
  },
  "language_info": {
   "codemirror_mode": {
    "name": "ipython",
    "version": 3
   },
   "file_extension": ".py",
   "mimetype": "text/x-python",
   "name": "python",
   "nbconvert_exporter": "python",
   "pygments_lexer": "ipython3",
   "version": "3.7.3"
  }
 },
 "nbformat": 4,
 "nbformat_minor": 2
}
